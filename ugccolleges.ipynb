{
 "cells": [
  {
   "cell_type": "code",
   "execution_count": 1,
   "id": "6c7c59b5",
   "metadata": {},
   "outputs": [],
   "source": [
    "import pandas as pd\n",
    "import requests\n",
    "from bs4 import BeautifulSoup\n",
    "import ssl"
   ]
  },
  {
   "cell_type": "code",
   "execution_count": 10,
   "id": "b2405c55",
   "metadata": {},
   "outputs": [
    {
     "name": "stderr",
     "output_type": "stream",
     "text": [
      "/home/vjrdnti/.local/lib/python3.10/site-packages/urllib3/connectionpool.py:1063: InsecureRequestWarning: Unverified HTTPS request is being made to host 'www.ugc.gov.in'. Adding certificate verification is strongly advised. See: https://urllib3.readthedocs.io/en/1.26.x/advanced-usage.html#ssl-warnings\n",
      "  warnings.warn(\n"
     ]
    }
   ],
   "source": [
    "url = 'https://www.ugc.gov.in/colleges'\n",
    "response = requests.get(url, verify=False)\n",
    "\n",
    "if response.status_code == 200:\n",
    "    page_content = response.text\n",
    "else:\n",
    "    print(f'Failed to retrieve the page. Status code: {response.status_code}')\n"
   ]
  },
  {
   "cell_type": "code",
   "execution_count": 11,
   "id": "e32a9a9d",
   "metadata": {},
   "outputs": [],
   "source": [
    "soup = BeautifulSoup(page_content, 'html.parser')"
   ]
  },
  {
   "cell_type": "code",
   "execution_count": 15,
   "id": "8a03d2d1",
   "metadata": {},
   "outputs": [],
   "source": [
    "table = soup.find('table')"
   ]
  },
  {
   "cell_type": "code",
   "execution_count": 17,
   "id": "61bdca10",
   "metadata": {},
   "outputs": [],
   "source": [
    "df = pd.read_html(str(table))"
   ]
  },
  {
   "cell_type": "code",
   "execution_count": 19,
   "id": "ade97577",
   "metadata": {},
   "outputs": [
    {
     "data": {
      "text/html": [
       "<div>\n",
       "<style scoped>\n",
       "    .dataframe tbody tr th:only-of-type {\n",
       "        vertical-align: middle;\n",
       "    }\n",
       "\n",
       "    .dataframe tbody tr th {\n",
       "        vertical-align: top;\n",
       "    }\n",
       "\n",
       "    .dataframe thead th {\n",
       "        text-align: right;\n",
       "    }\n",
       "</style>\n",
       "<table border=\"1\" class=\"dataframe\">\n",
       "  <thead>\n",
       "    <tr style=\"text-align: right;\">\n",
       "      <th></th>\n",
       "      <th>Sr No</th>\n",
       "      <th>Name of the college</th>\n",
       "      <th>Affiliated To University</th>\n",
       "      <th>College address</th>\n",
       "      <th>District</th>\n",
       "      <th>State</th>\n",
       "      <th>Status</th>\n",
       "      <th>Year of Estb.</th>\n",
       "      <th>Teaching Upto</th>\n",
       "      <th>Govt or Non Govt</th>\n",
       "      <th>Aided or Unaided</th>\n",
       "    </tr>\n",
       "  </thead>\n",
       "  <tbody>\n",
       "    <tr>\n",
       "      <th>0</th>\n",
       "      <td>1</td>\n",
       "      <td>Govt Degree College</td>\n",
       "      <td>Sardar Patel University Mandi Himachal Pradesh</td>\n",
       "      <td>Khundian, Vill: Sihoti, PO &amp; Tehsil Khundian, ...</td>\n",
       "      <td>Kangra</td>\n",
       "      <td>Himachal Pradesh</td>\n",
       "      <td>2(f)</td>\n",
       "      <td>2014.0</td>\n",
       "      <td>Bachelor's</td>\n",
       "      <td>Government</td>\n",
       "      <td>Aided</td>\n",
       "    </tr>\n",
       "    <tr>\n",
       "      <th>1</th>\n",
       "      <td>2</td>\n",
       "      <td>A M A L College</td>\n",
       "      <td>Andhra University, Visakhapatnam</td>\n",
       "      <td>Anakapalli, District Visakhapatnam - 531 001</td>\n",
       "      <td>Visakhapatnam</td>\n",
       "      <td>Andhra Pradesh</td>\n",
       "      <td>2(f) and 12(B)</td>\n",
       "      <td>1953.0</td>\n",
       "      <td>Master's</td>\n",
       "      <td>Non Government</td>\n",
       "      <td>NaN</td>\n",
       "    </tr>\n",
       "    <tr>\n",
       "      <th>2</th>\n",
       "      <td>3</td>\n",
       "      <td>A Veeriya Vendayar Memorial Sri Pushpam College</td>\n",
       "      <td>Bharathidasan University, Tiruchirapalli</td>\n",
       "      <td>Poondi, District Thanjavur</td>\n",
       "      <td>Thanjavur</td>\n",
       "      <td>Tamil Nadu</td>\n",
       "      <td>2(f) and 12(B)</td>\n",
       "      <td>1956.0</td>\n",
       "      <td>Bachelor's</td>\n",
       "      <td>Non Government</td>\n",
       "      <td>NaN</td>\n",
       "    </tr>\n",
       "    <tr>\n",
       "      <th>3</th>\n",
       "      <td>4</td>\n",
       "      <td>A. K. Singh College</td>\n",
       "      <td>Nilamber-Pitamber University, Madininagar, Palamu</td>\n",
       "      <td>Vill. Japla, Dist. Palamau - 822 116, Jharkhand</td>\n",
       "      <td>NaN</td>\n",
       "      <td>Jharkhand</td>\n",
       "      <td>2(f)</td>\n",
       "      <td>1984.0</td>\n",
       "      <td>Bachelor's</td>\n",
       "      <td>Non Government</td>\n",
       "      <td>Unaided</td>\n",
       "    </tr>\n",
       "    <tr>\n",
       "      <th>4</th>\n",
       "      <td>5</td>\n",
       "      <td>A. V. Patel Commerce College</td>\n",
       "      <td>Veer Narmad South Gujarat University, Surat</td>\n",
       "      <td>Bilimora, Dist. Valsad - 396 321</td>\n",
       "      <td>Valsad</td>\n",
       "      <td>Gujarat</td>\n",
       "      <td>2(f) and 12(B)</td>\n",
       "      <td>1977.0</td>\n",
       "      <td>Bachelor's</td>\n",
       "      <td>Non Government</td>\n",
       "      <td>NaN</td>\n",
       "    </tr>\n",
       "    <tr>\n",
       "      <th>...</th>\n",
       "      <td>...</td>\n",
       "      <td>...</td>\n",
       "      <td>...</td>\n",
       "      <td>...</td>\n",
       "      <td>...</td>\n",
       "      <td>...</td>\n",
       "      <td>...</td>\n",
       "      <td>...</td>\n",
       "      <td>...</td>\n",
       "      <td>...</td>\n",
       "      <td>...</td>\n",
       "    </tr>\n",
       "    <tr>\n",
       "      <th>14318</th>\n",
       "      <td>14319</td>\n",
       "      <td>Zamorin's Guruvayurappan College</td>\n",
       "      <td>Calicut University, Kozhikode</td>\n",
       "      <td>Calicut, Dist. Calicut - 673 014</td>\n",
       "      <td>NaN</td>\n",
       "      <td>Kerala</td>\n",
       "      <td>2(f) and 12(B)</td>\n",
       "      <td>1877.0</td>\n",
       "      <td>Master's</td>\n",
       "      <td>Non Government</td>\n",
       "      <td>NaN</td>\n",
       "    </tr>\n",
       "    <tr>\n",
       "      <th>14319</th>\n",
       "      <td>14320</td>\n",
       "      <td>Zeal Education Society’s Zeal College of Engin...</td>\n",
       "      <td>Savitribai Phule Pune University, Pune</td>\n",
       "      <td>S. No. 39, Narhe, Pune – 411 041</td>\n",
       "      <td>Pune</td>\n",
       "      <td>Maharashtra</td>\n",
       "      <td>2(f)</td>\n",
       "      <td>2007.0</td>\n",
       "      <td>Master's</td>\n",
       "      <td>Non Government</td>\n",
       "      <td>Unaided</td>\n",
       "    </tr>\n",
       "    <tr>\n",
       "      <th>14320</th>\n",
       "      <td>14321</td>\n",
       "      <td>Zirtri Government Women's College</td>\n",
       "      <td>Mizoram University, Aizawl</td>\n",
       "      <td>Aizawal, Distrit Aizawal</td>\n",
       "      <td>NaN</td>\n",
       "      <td>Mizoram</td>\n",
       "      <td>2(f) and 12(B)</td>\n",
       "      <td>1985.0</td>\n",
       "      <td>Bachelor's</td>\n",
       "      <td>Government</td>\n",
       "      <td>NaN</td>\n",
       "    </tr>\n",
       "    <tr>\n",
       "      <th>14321</th>\n",
       "      <td>14322</td>\n",
       "      <td>Zunhebota Govt. College</td>\n",
       "      <td>Nagaland University, Kohima</td>\n",
       "      <td>Zunhebota</td>\n",
       "      <td>NaN</td>\n",
       "      <td>Nagaland</td>\n",
       "      <td>2(f) and 12(B)</td>\n",
       "      <td>NaN</td>\n",
       "      <td>Bachelor's</td>\n",
       "      <td>Government</td>\n",
       "      <td>NaN</td>\n",
       "    </tr>\n",
       "    <tr>\n",
       "      <th>14322</th>\n",
       "      <td>14323</td>\n",
       "      <td>Zunheboto Government College</td>\n",
       "      <td>Nagaland University, Kohima</td>\n",
       "      <td>Zunheboto, Distgrict Zunheboto</td>\n",
       "      <td>NaN</td>\n",
       "      <td>Nagaland</td>\n",
       "      <td>2(f) and 12(B)</td>\n",
       "      <td>1980.0</td>\n",
       "      <td>Bachelor's</td>\n",
       "      <td>Non Government</td>\n",
       "      <td>Aided</td>\n",
       "    </tr>\n",
       "  </tbody>\n",
       "</table>\n",
       "<p>14323 rows × 11 columns</p>\n",
       "</div>"
      ],
      "text/plain": [
       "       Sr No                                Name of the college  \\\n",
       "0          1                                Govt Degree College   \n",
       "1          2                                    A M A L College   \n",
       "2          3    A Veeriya Vendayar Memorial Sri Pushpam College   \n",
       "3          4                                A. K. Singh College   \n",
       "4          5                       A. V. Patel Commerce College   \n",
       "...      ...                                                ...   \n",
       "14318  14319                   Zamorin's Guruvayurappan College   \n",
       "14319  14320  Zeal Education Society’s Zeal College of Engin...   \n",
       "14320  14321                  Zirtri Government Women's College   \n",
       "14321  14322                            Zunhebota Govt. College   \n",
       "14322  14323                       Zunheboto Government College   \n",
       "\n",
       "                                Affiliated To University  \\\n",
       "0         Sardar Patel University Mandi Himachal Pradesh   \n",
       "1                       Andhra University, Visakhapatnam   \n",
       "2               Bharathidasan University, Tiruchirapalli   \n",
       "3      Nilamber-Pitamber University, Madininagar, Palamu   \n",
       "4            Veer Narmad South Gujarat University, Surat   \n",
       "...                                                  ...   \n",
       "14318                      Calicut University, Kozhikode   \n",
       "14319             Savitribai Phule Pune University, Pune   \n",
       "14320                         Mizoram University, Aizawl   \n",
       "14321                        Nagaland University, Kohima   \n",
       "14322                        Nagaland University, Kohima   \n",
       "\n",
       "                                         College address       District  \\\n",
       "0      Khundian, Vill: Sihoti, PO & Tehsil Khundian, ...         Kangra   \n",
       "1           Anakapalli, District Visakhapatnam - 531 001  Visakhapatnam   \n",
       "2                             Poondi, District Thanjavur      Thanjavur   \n",
       "3        Vill. Japla, Dist. Palamau - 822 116, Jharkhand            NaN   \n",
       "4                       Bilimora, Dist. Valsad - 396 321         Valsad   \n",
       "...                                                  ...            ...   \n",
       "14318                   Calicut, Dist. Calicut - 673 014            NaN   \n",
       "14319                   S. No. 39, Narhe, Pune – 411 041           Pune   \n",
       "14320                           Aizawal, Distrit Aizawal            NaN   \n",
       "14321                                          Zunhebota            NaN   \n",
       "14322                     Zunheboto, Distgrict Zunheboto            NaN   \n",
       "\n",
       "                  State          Status  Year of Estb. Teaching Upto  \\\n",
       "0      Himachal Pradesh            2(f)         2014.0    Bachelor's   \n",
       "1        Andhra Pradesh  2(f) and 12(B)         1953.0      Master's   \n",
       "2            Tamil Nadu  2(f) and 12(B)         1956.0    Bachelor's   \n",
       "3             Jharkhand            2(f)         1984.0    Bachelor's   \n",
       "4               Gujarat  2(f) and 12(B)         1977.0    Bachelor's   \n",
       "...                 ...             ...            ...           ...   \n",
       "14318            Kerala  2(f) and 12(B)         1877.0      Master's   \n",
       "14319       Maharashtra            2(f)         2007.0      Master's   \n",
       "14320           Mizoram  2(f) and 12(B)         1985.0    Bachelor's   \n",
       "14321          Nagaland  2(f) and 12(B)            NaN    Bachelor's   \n",
       "14322          Nagaland  2(f) and 12(B)         1980.0    Bachelor's   \n",
       "\n",
       "      Govt or Non Govt Aided or Unaided  \n",
       "0           Government            Aided  \n",
       "1       Non Government              NaN  \n",
       "2       Non Government              NaN  \n",
       "3       Non Government          Unaided  \n",
       "4       Non Government              NaN  \n",
       "...                ...              ...  \n",
       "14318   Non Government              NaN  \n",
       "14319   Non Government          Unaided  \n",
       "14320       Government              NaN  \n",
       "14321       Government              NaN  \n",
       "14322   Non Government            Aided  \n",
       "\n",
       "[14323 rows x 11 columns]"
      ]
     },
     "execution_count": 19,
     "metadata": {},
     "output_type": "execute_result"
    }
   ],
   "source": [
    "df[0]"
   ]
  },
  {
   "cell_type": "code",
   "execution_count": 20,
   "id": "2acad07d",
   "metadata": {},
   "outputs": [],
   "source": [
    "df[0].to_csv('ugc_2f_and_12b_colleges.csv')"
   ]
  },
  {
   "cell_type": "code",
   "execution_count": 9,
   "id": "242202ec",
   "metadata": {},
   "outputs": [],
   "source": [
    "df = pd.read_csv('./ugc_2f_and_12b_colleges.csv')"
   ]
  },
  {
   "cell_type": "code",
   "execution_count": 4,
   "id": "1784b144",
   "metadata": {},
   "outputs": [
    {
     "data": {
      "text/plain": [
       "(654, 12)"
      ]
     },
     "execution_count": 4,
     "metadata": {},
     "output_type": "execute_result"
    }
   ],
   "source": [
    "df.loc[df.State=='Madhya Pradesh'].shape\n"
   ]
  },
  {
   "cell_type": "code",
   "execution_count": 6,
   "id": "a3e26963",
   "metadata": {},
   "outputs": [
    {
     "data": {
      "text/plain": [
       "Uttar Pradesh                  3562\n",
       "Maharashtra                    1701\n",
       "Karnataka                      1231\n",
       "Tamil Nadu                      870\n",
       "Madhya Pradesh                  654\n",
       "Andhra Pradesh                  604\n",
       "Gujarat                         596\n",
       "West Bengal                     571\n",
       "Odisha                          551\n",
       "Telangana                       455\n",
       "Bihar                           454\n",
       "Rajasthan                       436\n",
       "Kerala                          372\n",
       "Assam                           348\n",
       "Chhattisgarh                    300\n",
       "Punjab                          296\n",
       "Haryana                         243\n",
       "Jammu and Kashmir               223\n",
       "Jharkhand                       150\n",
       "Uttarakhand                     136\n",
       "Himachal Pradesh                102\n",
       "Delhi                            98\n",
       "Manipur                          73\n",
       "Nagaland                         52\n",
       "Meghalaya                        42\n",
       "Puducherry                       40\n",
       "Goa                              40\n",
       "Tripura                          32\n",
       "Mizoram                          29\n",
       "Chandigarh                       21\n",
       "Arunachal Pradesh                15\n",
       "Sikkim                           11\n",
       "Andaman and Nicobar Islands       6\n",
       "Name: State, dtype: int64"
      ]
     },
     "execution_count": 6,
     "metadata": {},
     "output_type": "execute_result"
    }
   ],
   "source": [
    "df.State.value_counts()"
   ]
  },
  {
   "cell_type": "code",
   "execution_count": 7,
   "id": "1813e1c1",
   "metadata": {},
   "outputs": [
    {
     "data": {
      "text/plain": [
       "(1701, 12)"
      ]
     },
     "execution_count": 7,
     "metadata": {},
     "output_type": "execute_result"
    }
   ],
   "source": [
    "df.loc[df.State=='Maharashtra'].shape"
   ]
  },
  {
   "cell_type": "code",
   "execution_count": 10,
   "id": "d002f1f7",
   "metadata": {},
   "outputs": [],
   "source": [
    "#df = df.loc[df.State=='Madhya Pradesh']\n",
    "#df.to_csv('mp_ugc_college.csv')\n",
    "df = df.loc[df.State=='Maharashtra']\n",
    "df.to_csv('mh_ugc_college.csv')\n"
   ]
  }
 ],
 "metadata": {
  "kernelspec": {
   "display_name": "Python 3 (ipykernel)",
   "language": "python",
   "name": "python3"
  },
  "language_info": {
   "codemirror_mode": {
    "name": "ipython",
    "version": 3
   },
   "file_extension": ".py",
   "mimetype": "text/x-python",
   "name": "python",
   "nbconvert_exporter": "python",
   "pygments_lexer": "ipython3",
   "version": "3.10.12"
  }
 },
 "nbformat": 4,
 "nbformat_minor": 5
}
